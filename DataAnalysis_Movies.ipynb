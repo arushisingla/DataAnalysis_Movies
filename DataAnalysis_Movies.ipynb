{
  "nbformat": 4,
  "nbformat_minor": 0,
  "metadata": {
    "colab": {
      "provenance": [],
      "include_colab_link": true
    },
    "kernelspec": {
      "name": "python3",
      "display_name": "Python 3"
    },
    "language_info": {
      "name": "python"
    }
  },
  "cells": [
    {
      "cell_type": "markdown",
      "metadata": {
        "id": "view-in-github",
        "colab_type": "text"
      },
      "source": [
        "<a href=\"https://colab.research.google.com/github/arushisingla/DataAnalysis_Movies/blob/main/DataAnalysis_Movies.ipynb\" target=\"_parent\"><img src=\"https://colab.research.google.com/assets/colab-badge.svg\" alt=\"Open In Colab\"/></a>"
      ]
    },
    {
      "cell_type": "markdown",
      "metadata": {
        "id": "bvAgrgo9o7vQ"
      },
      "source": [
        "##**Dataset:**  Top 10000 Popular Movies Dataset- TMDB\n",
        "https://www.kaggle.com/omkarborikar/top-10000-popular-movies/metadata\n",
        "\n",
        "\n",
        "\n"
      ]
    },
    {
      "cell_type": "code",
      "metadata": {
        "id": "XpDQAZf3Yo50"
      },
      "source": [
        "# Import packages\n",
        "import pandas as pd\n",
        "import numpy as np\n",
        "import seaborn as sns\n",
        "import matplotlib.pyplot as plt"
      ],
      "execution_count": null,
      "outputs": []
    },
    {
      "cell_type": "code",
      "metadata": {
        "id": "Cr6tgwDHUz-b",
        "colab": {
          "base_uri": "https://localhost:8080/"
        },
        "outputId": "ec259c4a-9727-4622-8fed-fed2fbf35779"
      },
      "source": [
        "from google.colab import drive\n",
        "drive.mount('/content/drive')"
      ],
      "execution_count": null,
      "outputs": [
        {
          "output_type": "stream",
          "name": "stdout",
          "text": [
            "Drive already mounted at /content/drive; to attempt to forcibly remount, call drive.mount(\"/content/drive\", force_remount=True).\n"
          ]
        }
      ]
    },
    {
      "cell_type": "markdown",
      "metadata": {
        "id": "OpOTpPvQIt9x"
      },
      "source": [
        "# 1) Read Data"
      ]
    },
    {
      "cell_type": "code",
      "metadata": {
        "id": "J4WqTFyaZx0N"
      },
      "source": [
        "# Read data from .csv file\n",
        "data=pd.read_csv(\"/content/drive/MyDrive/Prob_Movies.csv\")  "
      ],
      "execution_count": null,
      "outputs": []
    },
    {
      "cell_type": "code",
      "metadata": {
        "colab": {
          "base_uri": "https://localhost:8080/"
        },
        "id": "urfuCS63I4Vd",
        "outputId": "92fb6558-9f4d-46d3-cbc7-1fa820c2022a"
      },
      "source": [
        "#Extracting basic info about the data\n",
        "data.info()"
      ],
      "execution_count": null,
      "outputs": [
        {
          "output_type": "stream",
          "name": "stdout",
          "text": [
            "<class 'pandas.core.frame.DataFrame'>\n",
            "RangeIndex: 10014 entries, 0 to 10013\n",
            "Data columns (total 11 columns):\n",
            " #   Column             Non-Null Count  Dtype  \n",
            "---  ------             --------------  -----  \n",
            " 0   original_language  10002 non-null  object \n",
            " 1   original_title     10001 non-null  object \n",
            " 2   popularity         10000 non-null  float64\n",
            " 3   release_date       9962 non-null   object \n",
            " 4   vote_average       10000 non-null  float64\n",
            " 5   vote_count         10000 non-null  float64\n",
            " 6   genre              10000 non-null  object \n",
            " 7   overview           9900 non-null   object \n",
            " 8   revenue            9998 non-null   float64\n",
            " 9   runtime            9989 non-null   float64\n",
            " 10  tagline            7079 non-null   object \n",
            "dtypes: float64(5), object(6)\n",
            "memory usage: 860.7+ KB\n"
          ]
        }
      ]
    },
    {
      "cell_type": "code",
      "metadata": {
        "id": "DqohvBDOVZFJ",
        "colab": {
          "base_uri": "https://localhost:8080/"
        },
        "outputId": "9ecd6e96-166e-46f2-c49e-b0d1be3a9084"
      },
      "source": [
        "print(\"The TMDB Movies dataset has {} rows and {} columns\".format(data.shape[0], data.shape[1]))"
      ],
      "execution_count": null,
      "outputs": [
        {
          "output_type": "stream",
          "name": "stdout",
          "text": [
            "The TMDB Movies dataset has 10014 rows and 11 columns\n"
          ]
        }
      ]
    },
    {
      "cell_type": "code",
      "metadata": {
        "colab": {
          "base_uri": "https://localhost:8080/",
          "height": 575
        },
        "id": "LCf8kzAarxW9",
        "outputId": "9b89b5fd-48c2-4cd4-b199-78d3827356c3"
      },
      "source": [
        "# Preview top 10 rows using head()\n",
        "data.head(10)"
      ],
      "execution_count": null,
      "outputs": [
        {
          "output_type": "execute_result",
          "data": {
            "text/html": [
              "<div>\n",
              "<style scoped>\n",
              "    .dataframe tbody tr th:only-of-type {\n",
              "        vertical-align: middle;\n",
              "    }\n",
              "\n",
              "    .dataframe tbody tr th {\n",
              "        vertical-align: top;\n",
              "    }\n",
              "\n",
              "    .dataframe thead th {\n",
              "        text-align: right;\n",
              "    }\n",
              "</style>\n",
              "<table border=\"1\" class=\"dataframe\">\n",
              "  <thead>\n",
              "    <tr style=\"text-align: right;\">\n",
              "      <th></th>\n",
              "      <th>original_language</th>\n",
              "      <th>original_title</th>\n",
              "      <th>popularity</th>\n",
              "      <th>release_date</th>\n",
              "      <th>vote_average</th>\n",
              "      <th>vote_count</th>\n",
              "      <th>genre</th>\n",
              "      <th>overview</th>\n",
              "      <th>revenue</th>\n",
              "      <th>runtime</th>\n",
              "      <th>tagline</th>\n",
              "    </tr>\n",
              "  </thead>\n",
              "  <tbody>\n",
              "    <tr>\n",
              "      <th>0</th>\n",
              "      <td>en</td>\n",
              "      <td>Venom: Let There Be Carnage</td>\n",
              "      <td>5401.308</td>\n",
              "      <td>30-09-2021</td>\n",
              "      <td>6.8</td>\n",
              "      <td>1736.0</td>\n",
              "      <td>['Science Fiction', 'Action', 'Adventure']</td>\n",
              "      <td>After finding a host body in investigative rep...</td>\n",
              "      <td>424000000.0</td>\n",
              "      <td>97.0</td>\n",
              "      <td>NaN</td>\n",
              "    </tr>\n",
              "    <tr>\n",
              "      <th>1</th>\n",
              "      <td>en</td>\n",
              "      <td>Eternals</td>\n",
              "      <td>3365.535</td>\n",
              "      <td>03-11-2021</td>\n",
              "      <td>7.1</td>\n",
              "      <td>622.0</td>\n",
              "      <td>['Action', 'Adventure', 'Science Fiction', 'Fa...</td>\n",
              "      <td>The Eternals are a team of ancient aliens who ...</td>\n",
              "      <td>165000000.0</td>\n",
              "      <td>157.0</td>\n",
              "      <td>In the beginning...</td>\n",
              "    </tr>\n",
              "    <tr>\n",
              "      <th>2</th>\n",
              "      <td>en</td>\n",
              "      <td>Dune</td>\n",
              "      <td>2911.423</td>\n",
              "      <td>15-09-2021</td>\n",
              "      <td>8.0</td>\n",
              "      <td>3632.0</td>\n",
              "      <td>['Action', 'Adventure', 'Science Fiction']</td>\n",
              "      <td>Paul Atreides, a brilliant and gifted young ma...</td>\n",
              "      <td>331116356.0</td>\n",
              "      <td>155.0</td>\n",
              "      <td>Beyond fear, destiny awaits.</td>\n",
              "    </tr>\n",
              "    <tr>\n",
              "      <th>3</th>\n",
              "      <td>en</td>\n",
              "      <td>Army of Thieves</td>\n",
              "      <td>2552.437</td>\n",
              "      <td>27-10-2021</td>\n",
              "      <td>6.9</td>\n",
              "      <td>555.0</td>\n",
              "      <td>['Action', 'Crime', 'Thriller']</td>\n",
              "      <td>A mysterious woman recruits bank teller Ludwig...</td>\n",
              "      <td>0.0</td>\n",
              "      <td>127.0</td>\n",
              "      <td>Before Vegas, one locksmith became a legend.</td>\n",
              "    </tr>\n",
              "    <tr>\n",
              "      <th>4</th>\n",
              "      <td>en</td>\n",
              "      <td>Free Guy</td>\n",
              "      <td>1850.470</td>\n",
              "      <td>11-08-2021</td>\n",
              "      <td>7.8</td>\n",
              "      <td>3493.0</td>\n",
              "      <td>['Comedy', 'Action', 'Adventure', 'Science Fic...</td>\n",
              "      <td>A bank teller called Guy realizes he is a back...</td>\n",
              "      <td>331096766.0</td>\n",
              "      <td>115.0</td>\n",
              "      <td>Life's too short to be a background character.</td>\n",
              "    </tr>\n",
              "    <tr>\n",
              "      <th>5</th>\n",
              "      <td>en</td>\n",
              "      <td>Gunpowder Milkshake</td>\n",
              "      <td>1453.423</td>\n",
              "      <td>14-07-2021</td>\n",
              "      <td>6.5</td>\n",
              "      <td>347.0</td>\n",
              "      <td>['Action', 'Thriller', 'Crime']</td>\n",
              "      <td>In her turbulent life as a professional assass...</td>\n",
              "      <td>344931.0</td>\n",
              "      <td>114.0</td>\n",
              "      <td>Revenge is best served ice cold.</td>\n",
              "    </tr>\n",
              "    <tr>\n",
              "      <th>6</th>\n",
              "      <td>en</td>\n",
              "      <td>Venom</td>\n",
              "      <td>1212.352</td>\n",
              "      <td>28-09-2018</td>\n",
              "      <td>6.8</td>\n",
              "      <td>12126.0</td>\n",
              "      <td>['Science Fiction', 'Action']</td>\n",
              "      <td>Investigative journalist Eddie Brock attempts ...</td>\n",
              "      <td>855013954.0</td>\n",
              "      <td>112.0</td>\n",
              "      <td>The world has enough Superheroes.</td>\n",
              "    </tr>\n",
              "    <tr>\n",
              "      <th>7</th>\n",
              "      <td>en</td>\n",
              "      <td>Halloween Kills</td>\n",
              "      <td>1023.024</td>\n",
              "      <td>14-10-2021</td>\n",
              "      <td>7.0</td>\n",
              "      <td>1134.0</td>\n",
              "      <td>['Horror', 'Thriller']</td>\n",
              "      <td>Minutes after Laurie Strode, her daughter Kare...</td>\n",
              "      <td>118852075.0</td>\n",
              "      <td>105.0</td>\n",
              "      <td>Evil dies tonight.</td>\n",
              "    </tr>\n",
              "    <tr>\n",
              "      <th>8</th>\n",
              "      <td>pl</td>\n",
              "      <td>W lesie dziś nie zaśnie nikt 2</td>\n",
              "      <td>1089.852</td>\n",
              "      <td>27-10-2021</td>\n",
              "      <td>4.1</td>\n",
              "      <td>72.0</td>\n",
              "      <td>['Horror', 'Thriller']</td>\n",
              "      <td>When something horrible happens to the only su...</td>\n",
              "      <td>0.0</td>\n",
              "      <td>96.0</td>\n",
              "      <td>NaN</td>\n",
              "    </tr>\n",
              "    <tr>\n",
              "      <th>9</th>\n",
              "      <td>en</td>\n",
              "      <td>American Badger</td>\n",
              "      <td>1148.822</td>\n",
              "      <td>05-03-2021</td>\n",
              "      <td>6.3</td>\n",
              "      <td>14.0</td>\n",
              "      <td>['Action', 'Thriller']</td>\n",
              "      <td>A seemingly cold-blooded hitman is assigned to...</td>\n",
              "      <td>0.0</td>\n",
              "      <td>88.0</td>\n",
              "      <td>Justice Before Redemption</td>\n",
              "    </tr>\n",
              "  </tbody>\n",
              "</table>\n",
              "</div>"
            ],
            "text/plain": [
              "  original_language  ...                                         tagline\n",
              "0                en  ...                                             NaN\n",
              "1                en  ...                             In the beginning...\n",
              "2                en  ...                    Beyond fear, destiny awaits.\n",
              "3                en  ...    Before Vegas, one locksmith became a legend.\n",
              "4                en  ...  Life's too short to be a background character.\n",
              "5                en  ...                Revenge is best served ice cold.\n",
              "6                en  ...               The world has enough Superheroes.\n",
              "7                en  ...                              Evil dies tonight.\n",
              "8                pl  ...                                             NaN\n",
              "9                en  ...                       Justice Before Redemption\n",
              "\n",
              "[10 rows x 11 columns]"
            ]
          },
          "metadata": {},
          "execution_count": 83
        }
      ]
    },
    {
      "cell_type": "code",
      "metadata": {
        "colab": {
          "base_uri": "https://localhost:8080/",
          "height": 304
        },
        "id": "AknLzt3DLiAL",
        "outputId": "ef1c7c6b-c4ed-4b21-eaa3-c5f24575abe8"
      },
      "source": [
        "# preview bottom 5 rows using tail()\n",
        "data.tail()"
      ],
      "execution_count": null,
      "outputs": [
        {
          "output_type": "execute_result",
          "data": {
            "text/html": [
              "<div>\n",
              "<style scoped>\n",
              "    .dataframe tbody tr th:only-of-type {\n",
              "        vertical-align: middle;\n",
              "    }\n",
              "\n",
              "    .dataframe tbody tr th {\n",
              "        vertical-align: top;\n",
              "    }\n",
              "\n",
              "    .dataframe thead th {\n",
              "        text-align: right;\n",
              "    }\n",
              "</style>\n",
              "<table border=\"1\" class=\"dataframe\">\n",
              "  <thead>\n",
              "    <tr style=\"text-align: right;\">\n",
              "      <th></th>\n",
              "      <th>original_language</th>\n",
              "      <th>original_title</th>\n",
              "      <th>popularity</th>\n",
              "      <th>release_date</th>\n",
              "      <th>vote_average</th>\n",
              "      <th>vote_count</th>\n",
              "      <th>genre</th>\n",
              "      <th>overview</th>\n",
              "      <th>revenue</th>\n",
              "      <th>runtime</th>\n",
              "      <th>tagline</th>\n",
              "    </tr>\n",
              "  </thead>\n",
              "  <tbody>\n",
              "    <tr>\n",
              "      <th>10009</th>\n",
              "      <td>en</td>\n",
              "      <td>A Grand Day Out</td>\n",
              "      <td>9.266</td>\n",
              "      <td>18-05-1990</td>\n",
              "      <td>7.5</td>\n",
              "      <td>594.0</td>\n",
              "      <td>['Adventure', 'Animation', 'Comedy', 'Science ...</td>\n",
              "      <td>Wallace and Gromit have run out of cheese and ...</td>\n",
              "      <td>0.0</td>\n",
              "      <td>23.0</td>\n",
              "      <td>NaN</td>\n",
              "    </tr>\n",
              "    <tr>\n",
              "      <th>10010</th>\n",
              "      <td>en</td>\n",
              "      <td>El cantante</td>\n",
              "      <td>10.417</td>\n",
              "      <td>12-09-2006</td>\n",
              "      <td>7.0</td>\n",
              "      <td>80.0</td>\n",
              "      <td>['History', 'Drama', 'Music']</td>\n",
              "      <td>The rise and fall of salsa singer, Héctor Lavo...</td>\n",
              "      <td>0.0</td>\n",
              "      <td>116.0</td>\n",
              "      <td>Based on the true story of the King of Salsa, ...</td>\n",
              "    </tr>\n",
              "    <tr>\n",
              "      <th>10011</th>\n",
              "      <td>en</td>\n",
              "      <td>How I Live Now</td>\n",
              "      <td>9.520</td>\n",
              "      <td>10-09-2013</td>\n",
              "      <td>6.6</td>\n",
              "      <td>705.0</td>\n",
              "      <td>['Drama', 'Action', 'Thriller', 'War']</td>\n",
              "      <td>An American girl on holiday in the English cou...</td>\n",
              "      <td>0.0</td>\n",
              "      <td>101.0</td>\n",
              "      <td>Love will lead you home</td>\n",
              "    </tr>\n",
              "    <tr>\n",
              "      <th>10012</th>\n",
              "      <td>en</td>\n",
              "      <td>Once</td>\n",
              "      <td>9.267</td>\n",
              "      <td>23-03-2007</td>\n",
              "      <td>7.4</td>\n",
              "      <td>990.0</td>\n",
              "      <td>['Drama', 'Music', 'Romance']</td>\n",
              "      <td>A vacuum repairman moonlights as a street musi...</td>\n",
              "      <td>20710513.0</td>\n",
              "      <td>85.0</td>\n",
              "      <td>How often do you find the right person?</td>\n",
              "    </tr>\n",
              "    <tr>\n",
              "      <th>10013</th>\n",
              "      <td>en</td>\n",
              "      <td>Manhattan Night</td>\n",
              "      <td>9.273</td>\n",
              "      <td>20-05-2016</td>\n",
              "      <td>6.0</td>\n",
              "      <td>304.0</td>\n",
              "      <td>['Drama', 'Mystery', 'Thriller']</td>\n",
              "      <td>Porter Wren is a Manhattan tabloid writer with...</td>\n",
              "      <td>0.0</td>\n",
              "      <td>113.0</td>\n",
              "      <td>No reporter can resist a siren.</td>\n",
              "    </tr>\n",
              "  </tbody>\n",
              "</table>\n",
              "</div>"
            ],
            "text/plain": [
              "      original_language  ...                                            tagline\n",
              "10009                en  ...                                                NaN\n",
              "10010                en  ...  Based on the true story of the King of Salsa, ...\n",
              "10011                en  ...                            Love will lead you home\n",
              "10012                en  ...            How often do you find the right person?\n",
              "10013                en  ...                    No reporter can resist a siren.\n",
              "\n",
              "[5 rows x 11 columns]"
            ]
          },
          "metadata": {},
          "execution_count": 84
        }
      ]
    },
    {
      "cell_type": "markdown",
      "metadata": {
        "id": "EwMDMuCvz2jz"
      },
      "source": [
        "Computing the mean, sum, range "
      ]
    },
    {
      "cell_type": "code",
      "metadata": {
        "colab": {
          "base_uri": "https://localhost:8080/",
          "height": 295
        },
        "id": "gUCdW15ALrvR",
        "outputId": "b65f7f73-fbac-4c51-b223-f618be2f5d3e"
      },
      "source": [
        "data.describe()"
      ],
      "execution_count": null,
      "outputs": [
        {
          "output_type": "execute_result",
          "data": {
            "text/html": [
              "<div>\n",
              "<style scoped>\n",
              "    .dataframe tbody tr th:only-of-type {\n",
              "        vertical-align: middle;\n",
              "    }\n",
              "\n",
              "    .dataframe tbody tr th {\n",
              "        vertical-align: top;\n",
              "    }\n",
              "\n",
              "    .dataframe thead th {\n",
              "        text-align: right;\n",
              "    }\n",
              "</style>\n",
              "<table border=\"1\" class=\"dataframe\">\n",
              "  <thead>\n",
              "    <tr style=\"text-align: right;\">\n",
              "      <th></th>\n",
              "      <th>popularity</th>\n",
              "      <th>vote_average</th>\n",
              "      <th>vote_count</th>\n",
              "      <th>revenue</th>\n",
              "      <th>runtime</th>\n",
              "    </tr>\n",
              "  </thead>\n",
              "  <tbody>\n",
              "    <tr>\n",
              "      <th>count</th>\n",
              "      <td>10000.000000</td>\n",
              "      <td>10000.00000</td>\n",
              "      <td>10000.000000</td>\n",
              "      <td>9.998000e+03</td>\n",
              "      <td>9989.000000</td>\n",
              "    </tr>\n",
              "    <tr>\n",
              "      <th>mean</th>\n",
              "      <td>34.516871</td>\n",
              "      <td>6.29875</td>\n",
              "      <td>1315.084900</td>\n",
              "      <td>5.737536e+07</td>\n",
              "      <td>98.792772</td>\n",
              "    </tr>\n",
              "    <tr>\n",
              "      <th>std</th>\n",
              "      <td>100.693958</td>\n",
              "      <td>1.43426</td>\n",
              "      <td>2501.899103</td>\n",
              "      <td>1.480897e+08</td>\n",
              "      <td>28.771525</td>\n",
              "    </tr>\n",
              "    <tr>\n",
              "      <th>min</th>\n",
              "      <td>6.269000</td>\n",
              "      <td>0.00000</td>\n",
              "      <td>0.000000</td>\n",
              "      <td>0.000000e+00</td>\n",
              "      <td>0.000000</td>\n",
              "    </tr>\n",
              "    <tr>\n",
              "      <th>25%</th>\n",
              "      <td>11.908000</td>\n",
              "      <td>5.90000</td>\n",
              "      <td>118.000000</td>\n",
              "      <td>0.000000e+00</td>\n",
              "      <td>89.000000</td>\n",
              "    </tr>\n",
              "    <tr>\n",
              "      <th>50%</th>\n",
              "      <td>17.488000</td>\n",
              "      <td>6.50000</td>\n",
              "      <td>425.500000</td>\n",
              "      <td>5.931240e+05</td>\n",
              "      <td>99.000000</td>\n",
              "    </tr>\n",
              "    <tr>\n",
              "      <th>75%</th>\n",
              "      <td>29.626250</td>\n",
              "      <td>7.10000</td>\n",
              "      <td>1297.250000</td>\n",
              "      <td>4.768796e+07</td>\n",
              "      <td>113.000000</td>\n",
              "    </tr>\n",
              "    <tr>\n",
              "      <th>max</th>\n",
              "      <td>5401.308000</td>\n",
              "      <td>9.50000</td>\n",
              "      <td>30184.000000</td>\n",
              "      <td>2.847246e+09</td>\n",
              "      <td>400.000000</td>\n",
              "    </tr>\n",
              "  </tbody>\n",
              "</table>\n",
              "</div>"
            ],
            "text/plain": [
              "         popularity  vote_average    vote_count       revenue      runtime\n",
              "count  10000.000000   10000.00000  10000.000000  9.998000e+03  9989.000000\n",
              "mean      34.516871       6.29875   1315.084900  5.737536e+07    98.792772\n",
              "std      100.693958       1.43426   2501.899103  1.480897e+08    28.771525\n",
              "min        6.269000       0.00000      0.000000  0.000000e+00     0.000000\n",
              "25%       11.908000       5.90000    118.000000  0.000000e+00    89.000000\n",
              "50%       17.488000       6.50000    425.500000  5.931240e+05    99.000000\n",
              "75%       29.626250       7.10000   1297.250000  4.768796e+07   113.000000\n",
              "max     5401.308000       9.50000  30184.000000  2.847246e+09   400.000000"
            ]
          },
          "metadata": {},
          "execution_count": 85
        }
      ]
    },
    {
      "cell_type": "markdown",
      "metadata": {
        "id": "5PUBi-LRLwOR"
      },
      "source": [
        "### Some Insights from description of data: \n"
      ]
    },
    {
      "cell_type": "code",
      "metadata": {
        "colab": {
          "base_uri": "https://localhost:8080/"
        },
        "id": "mYGi9M6CL2NZ",
        "outputId": "182ce399-853e-47fe-b149-e7d59359c0b1"
      },
      "source": [
        "# check null values\n",
        "data.isnull().sum()"
      ],
      "execution_count": null,
      "outputs": [
        {
          "output_type": "execute_result",
          "data": {
            "text/plain": [
              "original_language      12\n",
              "original_title         13\n",
              "popularity             14\n",
              "release_date           52\n",
              "vote_average           14\n",
              "vote_count             14\n",
              "genre                  14\n",
              "overview              114\n",
              "revenue                16\n",
              "runtime                25\n",
              "tagline              2935\n",
              "dtype: int64"
            ]
          },
          "metadata": {},
          "execution_count": 86
        }
      ]
    },
    {
      "cell_type": "markdown",
      "metadata": {
        "id": "L2DazbvWMwsq"
      },
      "source": [
        "isnull() depicts the missing values in the dataset with respect to different columns- as inferenced above, the numerical values we wish to study have very few 0 values.\n"
      ]
    },
    {
      "cell_type": "code",
      "metadata": {
        "colab": {
          "base_uri": "https://localhost:8080/"
        },
        "id": "xWE7yy8Mk5n1",
        "outputId": "07d0dafd-a66b-421e-ac46-b15548e73d77"
      },
      "source": [
        "print('The maximum and minimum value of popularity is {} and {} respectively'.format(data['popularity'].max(),data['popularity'].min()))\n",
        "\n",
        "range = data['popularity'].max() - data['popularity'].min()\n",
        "print('The range is:', range)"
      ],
      "execution_count": null,
      "outputs": [
        {
          "output_type": "stream",
          "name": "stdout",
          "text": [
            "The maximum and minimum value of popularity is 5401.308000000001 and 6.269 respectively\n",
            "The range is: 5395.039000000001\n"
          ]
        }
      ]
    },
    {
      "cell_type": "code",
      "metadata": {
        "colab": {
          "base_uri": "https://localhost:8080/"
        },
        "id": "iOMPZXL-lxww",
        "outputId": "0ae5f1e5-31ff-473c-ce13-fb1541f093a0"
      },
      "source": [
        "print('The maximum and minimum value of average votes are {} and {} respectively'.format(data['vote_average'].max(),data['vote_average'].min()))\n",
        "\n",
        "range = data['vote_average'].max() - data['vote_average'].min()\n",
        "print('The range is:', range)"
      ],
      "execution_count": null,
      "outputs": [
        {
          "output_type": "stream",
          "name": "stdout",
          "text": [
            "The maximum and minimum value of average votes are 9.5 and 0.0 respectively\n",
            "The range is: 9.5\n"
          ]
        }
      ]
    },
    {
      "cell_type": "markdown",
      "metadata": {
        "id": "Rhm9aRJKT2AO"
      },
      "source": [
        "Data Selection - Indexing and Slicing\n"
      ]
    },
    {
      "cell_type": "markdown",
      "metadata": {
        "id": "TPErUHNST7yE"
      },
      "source": [
        "Extracting data by columns\n"
      ]
    },
    {
      "cell_type": "code",
      "metadata": {
        "id": "qiVUMTgCT_xT"
      },
      "source": [
        "# Extract data as series\n",
        "genre = data['genre']"
      ],
      "execution_count": null,
      "outputs": []
    },
    {
      "cell_type": "code",
      "metadata": {
        "colab": {
          "base_uri": "https://localhost:8080/"
        },
        "id": "HA6pU9VKUK3p",
        "outputId": "d2582d5c-e450-4e1d-ff9d-a57bce0bc0c4"
      },
      "source": [
        "genre"
      ],
      "execution_count": null,
      "outputs": [
        {
          "output_type": "execute_result",
          "data": {
            "text/plain": [
              "0               ['Science Fiction', 'Action', 'Adventure']\n",
              "1        ['Action', 'Adventure', 'Science Fiction', 'Fa...\n",
              "2               ['Action', 'Adventure', 'Science Fiction']\n",
              "3                          ['Action', 'Crime', 'Thriller']\n",
              "4        ['Comedy', 'Action', 'Adventure', 'Science Fic...\n",
              "                               ...                        \n",
              "10009    ['Adventure', 'Animation', 'Comedy', 'Science ...\n",
              "10010                        ['History', 'Drama', 'Music']\n",
              "10011               ['Drama', 'Action', 'Thriller', 'War']\n",
              "10012                        ['Drama', 'Music', 'Romance']\n",
              "10013                     ['Drama', 'Mystery', 'Thriller']\n",
              "Name: genre, Length: 10014, dtype: object"
            ]
          },
          "metadata": {},
          "execution_count": 90
        }
      ]
    },
    {
      "cell_type": "code",
      "metadata": {
        "colab": {
          "base_uri": "https://localhost:8080/"
        },
        "id": "4cuT5wEwUNaH",
        "outputId": "724d300b-9d17-40e8-9ade-07c1032421fb"
      },
      "source": [
        "type(genre)"
      ],
      "execution_count": null,
      "outputs": [
        {
          "output_type": "execute_result",
          "data": {
            "text/plain": [
              "pandas.core.series.Series"
            ]
          },
          "metadata": {},
          "execution_count": 91
        }
      ]
    },
    {
      "cell_type": "code",
      "metadata": {
        "colab": {
          "base_uri": "https://localhost:8080/",
          "height": 417
        },
        "id": "Jcw7nLoVZVGT",
        "outputId": "0840dbda-ecbc-4164-c55a-f0bf5d8c8704"
      },
      "source": [
        "# Extract data as dataframe\n",
        "data[['genre']]"
      ],
      "execution_count": null,
      "outputs": [
        {
          "output_type": "execute_result",
          "data": {
            "text/html": [
              "<div>\n",
              "<style scoped>\n",
              "    .dataframe tbody tr th:only-of-type {\n",
              "        vertical-align: middle;\n",
              "    }\n",
              "\n",
              "    .dataframe tbody tr th {\n",
              "        vertical-align: top;\n",
              "    }\n",
              "\n",
              "    .dataframe thead th {\n",
              "        text-align: right;\n",
              "    }\n",
              "</style>\n",
              "<table border=\"1\" class=\"dataframe\">\n",
              "  <thead>\n",
              "    <tr style=\"text-align: right;\">\n",
              "      <th></th>\n",
              "      <th>genre</th>\n",
              "    </tr>\n",
              "  </thead>\n",
              "  <tbody>\n",
              "    <tr>\n",
              "      <th>0</th>\n",
              "      <td>['Science Fiction', 'Action', 'Adventure']</td>\n",
              "    </tr>\n",
              "    <tr>\n",
              "      <th>1</th>\n",
              "      <td>['Action', 'Adventure', 'Science Fiction', 'Fa...</td>\n",
              "    </tr>\n",
              "    <tr>\n",
              "      <th>2</th>\n",
              "      <td>['Action', 'Adventure', 'Science Fiction']</td>\n",
              "    </tr>\n",
              "    <tr>\n",
              "      <th>3</th>\n",
              "      <td>['Action', 'Crime', 'Thriller']</td>\n",
              "    </tr>\n",
              "    <tr>\n",
              "      <th>4</th>\n",
              "      <td>['Comedy', 'Action', 'Adventure', 'Science Fic...</td>\n",
              "    </tr>\n",
              "    <tr>\n",
              "      <th>...</th>\n",
              "      <td>...</td>\n",
              "    </tr>\n",
              "    <tr>\n",
              "      <th>10009</th>\n",
              "      <td>['Adventure', 'Animation', 'Comedy', 'Science ...</td>\n",
              "    </tr>\n",
              "    <tr>\n",
              "      <th>10010</th>\n",
              "      <td>['History', 'Drama', 'Music']</td>\n",
              "    </tr>\n",
              "    <tr>\n",
              "      <th>10011</th>\n",
              "      <td>['Drama', 'Action', 'Thriller', 'War']</td>\n",
              "    </tr>\n",
              "    <tr>\n",
              "      <th>10012</th>\n",
              "      <td>['Drama', 'Music', 'Romance']</td>\n",
              "    </tr>\n",
              "    <tr>\n",
              "      <th>10013</th>\n",
              "      <td>['Drama', 'Mystery', 'Thriller']</td>\n",
              "    </tr>\n",
              "  </tbody>\n",
              "</table>\n",
              "<p>10014 rows × 1 columns</p>\n",
              "</div>"
            ],
            "text/plain": [
              "                                                   genre\n",
              "0             ['Science Fiction', 'Action', 'Adventure']\n",
              "1      ['Action', 'Adventure', 'Science Fiction', 'Fa...\n",
              "2             ['Action', 'Adventure', 'Science Fiction']\n",
              "3                        ['Action', 'Crime', 'Thriller']\n",
              "4      ['Comedy', 'Action', 'Adventure', 'Science Fic...\n",
              "...                                                  ...\n",
              "10009  ['Adventure', 'Animation', 'Comedy', 'Science ...\n",
              "10010                      ['History', 'Drama', 'Music']\n",
              "10011             ['Drama', 'Action', 'Thriller', 'War']\n",
              "10012                      ['Drama', 'Music', 'Romance']\n",
              "10013                   ['Drama', 'Mystery', 'Thriller']\n",
              "\n",
              "[10014 rows x 1 columns]"
            ]
          },
          "metadata": {},
          "execution_count": 92
        }
      ]
    },
    {
      "cell_type": "code",
      "metadata": {
        "colab": {
          "base_uri": "https://localhost:8080/"
        },
        "id": "PvlXlbMFZbh8",
        "outputId": "31f472d3-7dbc-4603-b590-7caec1244025"
      },
      "source": [
        "type(data[['genre']])"
      ],
      "execution_count": null,
      "outputs": [
        {
          "output_type": "execute_result",
          "data": {
            "text/plain": [
              "pandas.core.frame.DataFrame"
            ]
          },
          "metadata": {},
          "execution_count": 93
        }
      ]
    },
    {
      "cell_type": "code",
      "metadata": {
        "id": "ZeC5s12QZm8K"
      },
      "source": [
        "some_cols = data[['original_title','genre','popularity','vote_count','revenue']]"
      ],
      "execution_count": null,
      "outputs": []
    },
    {
      "cell_type": "code",
      "metadata": {
        "colab": {
          "base_uri": "https://localhost:8080/",
          "height": 203
        },
        "id": "gtpfIw9BcIs5",
        "outputId": "8dc2af9a-7a45-4bcc-96b1-79a8a3d7bb4d"
      },
      "source": [
        "some_cols.head()"
      ],
      "execution_count": null,
      "outputs": [
        {
          "output_type": "execute_result",
          "data": {
            "text/html": [
              "<div>\n",
              "<style scoped>\n",
              "    .dataframe tbody tr th:only-of-type {\n",
              "        vertical-align: middle;\n",
              "    }\n",
              "\n",
              "    .dataframe tbody tr th {\n",
              "        vertical-align: top;\n",
              "    }\n",
              "\n",
              "    .dataframe thead th {\n",
              "        text-align: right;\n",
              "    }\n",
              "</style>\n",
              "<table border=\"1\" class=\"dataframe\">\n",
              "  <thead>\n",
              "    <tr style=\"text-align: right;\">\n",
              "      <th></th>\n",
              "      <th>original_title</th>\n",
              "      <th>genre</th>\n",
              "      <th>popularity</th>\n",
              "      <th>vote_count</th>\n",
              "      <th>revenue</th>\n",
              "    </tr>\n",
              "  </thead>\n",
              "  <tbody>\n",
              "    <tr>\n",
              "      <th>0</th>\n",
              "      <td>Venom: Let There Be Carnage</td>\n",
              "      <td>['Science Fiction', 'Action', 'Adventure']</td>\n",
              "      <td>5401.308</td>\n",
              "      <td>1736.0</td>\n",
              "      <td>424000000.0</td>\n",
              "    </tr>\n",
              "    <tr>\n",
              "      <th>1</th>\n",
              "      <td>Eternals</td>\n",
              "      <td>['Action', 'Adventure', 'Science Fiction', 'Fa...</td>\n",
              "      <td>3365.535</td>\n",
              "      <td>622.0</td>\n",
              "      <td>165000000.0</td>\n",
              "    </tr>\n",
              "    <tr>\n",
              "      <th>2</th>\n",
              "      <td>Dune</td>\n",
              "      <td>['Action', 'Adventure', 'Science Fiction']</td>\n",
              "      <td>2911.423</td>\n",
              "      <td>3632.0</td>\n",
              "      <td>331116356.0</td>\n",
              "    </tr>\n",
              "    <tr>\n",
              "      <th>3</th>\n",
              "      <td>Army of Thieves</td>\n",
              "      <td>['Action', 'Crime', 'Thriller']</td>\n",
              "      <td>2552.437</td>\n",
              "      <td>555.0</td>\n",
              "      <td>0.0</td>\n",
              "    </tr>\n",
              "    <tr>\n",
              "      <th>4</th>\n",
              "      <td>Free Guy</td>\n",
              "      <td>['Comedy', 'Action', 'Adventure', 'Science Fic...</td>\n",
              "      <td>1850.470</td>\n",
              "      <td>3493.0</td>\n",
              "      <td>331096766.0</td>\n",
              "    </tr>\n",
              "  </tbody>\n",
              "</table>\n",
              "</div>"
            ],
            "text/plain": [
              "                original_title  ...      revenue\n",
              "0  Venom: Let There Be Carnage  ...  424000000.0\n",
              "1                     Eternals  ...  165000000.0\n",
              "2                         Dune  ...  331116356.0\n",
              "3              Army of Thieves  ...          0.0\n",
              "4                     Free Guy  ...  331096766.0\n",
              "\n",
              "[5 rows x 5 columns]"
            ]
          },
          "metadata": {},
          "execution_count": 95
        }
      ]
    },
    {
      "cell_type": "markdown",
      "metadata": {
        "id": "Dw1_HdfciCoR"
      },
      "source": [
        "Changing release date column to datetime pandas data type"
      ]
    },
    {
      "cell_type": "code",
      "metadata": {
        "id": "n7phrjYdtyAB"
      },
      "source": [
        "data['release_date']=pd.to_datetime(data['release_date'])\n",
        "#data['date_published']=data[\"date_published\"].dt.strftime(\"%m/%d/%Y\")"
      ],
      "execution_count": null,
      "outputs": []
    },
    {
      "cell_type": "markdown",
      "metadata": {
        "id": "Z7YKRyohiTSk"
      },
      "source": [
        "dtypes function to check datatypes of each column"
      ]
    },
    {
      "cell_type": "code",
      "metadata": {
        "colab": {
          "base_uri": "https://localhost:8080/"
        },
        "id": "TZByMzxgtvrI",
        "outputId": "3fd4ad68-e68c-431e-f2be-a265cdda9ada"
      },
      "source": [
        "data.dtypes"
      ],
      "execution_count": null,
      "outputs": [
        {
          "output_type": "execute_result",
          "data": {
            "text/plain": [
              "original_language            object\n",
              "original_title               object\n",
              "popularity                  float64\n",
              "release_date         datetime64[ns]\n",
              "vote_average                float64\n",
              "vote_count                  float64\n",
              "genre                        object\n",
              "overview                     object\n",
              "revenue                     float64\n",
              "runtime                     float64\n",
              "tagline                      object\n",
              "dtype: object"
            ]
          },
          "metadata": {},
          "execution_count": 97
        }
      ]
    },
    {
      "cell_type": "markdown",
      "metadata": {
        "id": "HU7-8TW_ieKT"
      },
      "source": [
        "Comparing two dates"
      ]
    },
    {
      "cell_type": "code",
      "metadata": {
        "colab": {
          "base_uri": "https://localhost:8080/"
        },
        "id": "HtR-NXeftyDl",
        "outputId": "fdcc6f97-c9d3-4137-85dc-a57fb841b8c8"
      },
      "source": [
        "print(data['release_date'].iloc[1000])\n",
        "print(data['release_date'].iloc[1500])\n",
        "print(data['release_date'].iloc[1000]>data['release_date'].iloc[1500])"
      ],
      "execution_count": null,
      "outputs": [
        {
          "output_type": "stream",
          "name": "stdout",
          "text": [
            "2000-06-22 00:00:00\n",
            "2018-09-05 00:00:00\n",
            "False\n"
          ]
        }
      ]
    },
    {
      "cell_type": "markdown",
      "metadata": {
        "id": "nzCKGHGHwjSS"
      },
      "source": [
        "Using Pandas histogram function (with support from matplotlib) to understand the numerical attributes using graphs"
      ]
    },
    {
      "cell_type": "code",
      "metadata": {
        "id": "zbprdjzwtx9Y",
        "colab": {
          "base_uri": "https://localhost:8080/",
          "height": 403
        },
        "outputId": "b53e89e9-39d8-4623-8a55-7168f3c93b96"
      },
      "source": [
        "numerical_attributes = ['popularity', 'vote_average', 'vote_count', 'runtime','revenue']\n",
        "data[numerical_attributes].hist(figsize = (15, 6), color = 'blue', edgecolor = 'green', grid=False);"
      ],
      "execution_count": null,
      "outputs": [
        {
          "output_type": "display_data",
          "data": {
            "image/png": "[encoded data removed]",
            "text/plain": [
              "<Figure size 1080x432 with 6 Axes>"
            ]
          },
          "metadata": {
            "needs_background": "light"
          }
        }
      ]
    },
    {
      "cell_type": "markdown",
      "metadata": {
        "id": "B3ZZ2i4ewoyn"
      },
      "source": [
        "Using year and month attributes of Pandas datetime datatype to add separate year and month columns in the datset using the release date column"
      ]
    },
    {
      "cell_type": "code",
      "metadata": {
        "id": "HEcNaG9Qtx6o"
      },
      "source": [
        "data['year'] = data['release_date'].dt.year\n",
        "data['month'] = data['release_date'].dt.month"
      ],
      "execution_count": null,
      "outputs": []
    },
    {
      "cell_type": "code",
      "metadata": {
        "id": "ZYNCDjbDtx35",
        "colab": {
          "base_uri": "https://localhost:8080/"
        },
        "outputId": "a206f197-08a7-4c4a-b231-ef8f003bd857"
      },
      "source": [
        "data.dtypes"
      ],
      "execution_count": null,
      "outputs": [
        {
          "output_type": "execute_result",
          "data": {
            "text/plain": [
              "original_language            object\n",
              "original_title               object\n",
              "popularity                  float64\n",
              "release_date         datetime64[ns]\n",
              "vote_average                float64\n",
              "vote_count                  float64\n",
              "genre                        object\n",
              "overview                     object\n",
              "revenue                     float64\n",
              "runtime                     float64\n",
              "tagline                      object\n",
              "year                        float64\n",
              "month                       float64\n",
              "dtype: object"
            ]
          },
          "metadata": {},
          "execution_count": 101
        }
      ]
    },
    {
      "cell_type": "markdown",
      "metadata": {
        "id": "lWdLRBZV9ZjR"
      },
      "source": [
        "Seeing release years of top 100 movies with highest revenue"
      ]
    },
    {
      "cell_type": "code",
      "metadata": {
        "id": "gZ-sRADPzCbR",
        "colab": {
          "base_uri": "https://localhost:8080/",
          "height": 582
        },
        "outputId": "d5e51176-0b0d-40fb-a8eb-54cbc0c166aa"
      },
      "source": [
        "highest_revenued_100_movies = data[data[\"genre\"] != 0].sort_values(by=\"revenue\", ascending=False).head(100)\n",
        "plt.figure(figsize=(10,8))\n",
        "sns.distplot(highest_revenued_100_movies[\"year\"], color=\"orangered\")\n",
        "plt.title(\"Release Years of 100 Movies with Highest Revenue\", size=15)\n",
        "plt.xticks(rotation=35)\n",
        "plt.show()"
      ],
      "execution_count": null,
      "outputs": [
        {
          "output_type": "stream",
          "name": "stderr",
          "text": [
            "/usr/local/lib/python3.7/dist-packages/seaborn/distributions.py:2619: FutureWarning: `distplot` is a deprecated function and will be removed in a future version. Please adapt your code to use either `displot` (a figure-level function with similar flexibility) or `histplot` (an axes-level function for histograms).\n",
            "  warnings.warn(msg, FutureWarning)\n"
          ]
        },
        {
          "output_type": "display_data",
          "data": {
            "image/png": "[encoded data removed]",
            "text/plain": [
              "<Figure size 720x576 with 1 Axes>"
            ]
          },
          "metadata": {
            "needs_background": "light"
          }
        }
      ]
    },
    {
      "cell_type": "markdown",
      "metadata": {
        "id": "c3Uz7qkVhTmX"
      },
      "source": [
        "Sorting Data according to Popularity from the most well liked to least"
      ]
    },
    {
      "cell_type": "code",
      "metadata": {
        "colab": {
          "base_uri": "https://localhost:8080/",
          "height": 388
        },
        "id": "zkeb2hyShIHN",
        "outputId": "8287bed4-97e9-4514-e75c-ba06fe220e82"
      },
      "source": [
        "data=data.sort_values('popularity', ascending=False)\n",
        "data.head(5)"
      ],
      "execution_count": null,
      "outputs": [
        {
          "output_type": "execute_result",
          "data": {
            "text/html": [
              "<div>\n",
              "<style scoped>\n",
              "    .dataframe tbody tr th:only-of-type {\n",
              "        vertical-align: middle;\n",
              "    }\n",
              "\n",
              "    .dataframe tbody tr th {\n",
              "        vertical-align: top;\n",
              "    }\n",
              "\n",
              "    .dataframe thead th {\n",
              "        text-align: right;\n",
              "    }\n",
              "</style>\n",
              "<table border=\"1\" class=\"dataframe\">\n",
              "  <thead>\n",
              "    <tr style=\"text-align: right;\">\n",
              "      <th></th>\n",
              "      <th>original_language</th>\n",
              "      <th>original_title</th>\n",
              "      <th>popularity</th>\n",
              "      <th>release_date</th>\n",
              "      <th>vote_average</th>\n",
              "      <th>vote_count</th>\n",
              "      <th>genre</th>\n",
              "      <th>overview</th>\n",
              "      <th>revenue</th>\n",
              "      <th>runtime</th>\n",
              "      <th>tagline</th>\n",
              "      <th>year</th>\n",
              "      <th>month</th>\n",
              "    </tr>\n",
              "  </thead>\n",
              "  <tbody>\n",
              "    <tr>\n",
              "      <th>0</th>\n",
              "      <td>en</td>\n",
              "      <td>Venom: Let There Be Carnage</td>\n",
              "      <td>5401.308</td>\n",
              "      <td>2021-09-30</td>\n",
              "      <td>6.8</td>\n",
              "      <td>1736.0</td>\n",
              "      <td>['Science Fiction', 'Action', 'Adventure']</td>\n",
              "      <td>After finding a host body in investigative rep...</td>\n",
              "      <td>424000000.0</td>\n",
              "      <td>97.0</td>\n",
              "      <td>NaN</td>\n",
              "      <td>2021.0</td>\n",
              "      <td>9.0</td>\n",
              "    </tr>\n",
              "    <tr>\n",
              "      <th>1</th>\n",
              "      <td>en</td>\n",
              "      <td>Eternals</td>\n",
              "      <td>3365.535</td>\n",
              "      <td>2021-03-11</td>\n",
              "      <td>7.1</td>\n",
              "      <td>622.0</td>\n",
              "      <td>['Action', 'Adventure', 'Science Fiction', 'Fa...</td>\n",
              "      <td>The Eternals are a team of ancient aliens who ...</td>\n",
              "      <td>165000000.0</td>\n",
              "      <td>157.0</td>\n",
              "      <td>In the beginning...</td>\n",
              "      <td>2021.0</td>\n",
              "      <td>3.0</td>\n",
              "    </tr>\n",
              "    <tr>\n",
              "      <th>2</th>\n",
              "      <td>en</td>\n",
              "      <td>Dune</td>\n",
              "      <td>2911.423</td>\n",
              "      <td>2021-09-15</td>\n",
              "      <td>8.0</td>\n",
              "      <td>3632.0</td>\n",
              "      <td>['Action', 'Adventure', 'Science Fiction']</td>\n",
              "      <td>Paul Atreides, a brilliant and gifted young ma...</td>\n",
              "      <td>331116356.0</td>\n",
              "      <td>155.0</td>\n",
              "      <td>Beyond fear, destiny awaits.</td>\n",
              "      <td>2021.0</td>\n",
              "      <td>9.0</td>\n",
              "    </tr>\n",
              "    <tr>\n",
              "      <th>3</th>\n",
              "      <td>en</td>\n",
              "      <td>Army of Thieves</td>\n",
              "      <td>2552.437</td>\n",
              "      <td>2021-10-27</td>\n",
              "      <td>6.9</td>\n",
              "      <td>555.0</td>\n",
              "      <td>['Action', 'Crime', 'Thriller']</td>\n",
              "      <td>A mysterious woman recruits bank teller Ludwig...</td>\n",
              "      <td>0.0</td>\n",
              "      <td>127.0</td>\n",
              "      <td>Before Vegas, one locksmith became a legend.</td>\n",
              "      <td>2021.0</td>\n",
              "      <td>10.0</td>\n",
              "    </tr>\n",
              "    <tr>\n",
              "      <th>4</th>\n",
              "      <td>en</td>\n",
              "      <td>Free Guy</td>\n",
              "      <td>1850.470</td>\n",
              "      <td>2021-11-08</td>\n",
              "      <td>7.8</td>\n",
              "      <td>3493.0</td>\n",
              "      <td>['Comedy', 'Action', 'Adventure', 'Science Fic...</td>\n",
              "      <td>A bank teller called Guy realizes he is a back...</td>\n",
              "      <td>331096766.0</td>\n",
              "      <td>115.0</td>\n",
              "      <td>Life's too short to be a background character.</td>\n",
              "      <td>2021.0</td>\n",
              "      <td>11.0</td>\n",
              "    </tr>\n",
              "  </tbody>\n",
              "</table>\n",
              "</div>"
            ],
            "text/plain": [
              "  original_language               original_title  ...    year month\n",
              "0                en  Venom: Let There Be Carnage  ...  2021.0   9.0\n",
              "1                en                     Eternals  ...  2021.0   3.0\n",
              "2                en                         Dune  ...  2021.0   9.0\n",
              "3                en              Army of Thieves  ...  2021.0  10.0\n",
              "4                en                     Free Guy  ...  2021.0  11.0\n",
              "\n",
              "[5 rows x 13 columns]"
            ]
          },
          "metadata": {},
          "execution_count": 103
        }
      ]
    },
    {
      "cell_type": "markdown",
      "metadata": {
        "id": "FYhFAKGVxDSE"
      },
      "source": [
        "##Answering specific questions of interest as inferenced from the dataset and various graphs"
      ]
    },
    {
      "cell_type": "markdown",
      "metadata": {
        "id": "urEtStizhcn7"
      },
      "source": [
        "## Q1 Which genre is the most popular?\n"
      ]
    },
    {
      "cell_type": "code",
      "metadata": {
        "id": "ad8cLahEtxwy",
        "colab": {
          "base_uri": "https://localhost:8080/",
          "height": 390
        },
        "outputId": "7cc8bce3-3a97-43c9-a085-58a88e5fb552"
      },
      "source": [
        "#Python Counter is a container that will hold the count of each of the elements present in the container. It will return a dictionary. \n",
        "#Using seaborn bar plot to graphically show the most popular genre \n",
        "from collections import Counter\n",
        "genre_arr=[]\n",
        "datagenre= data[data['genre'] != '[]']\n",
        "\n",
        "for x in datagenre['genre'][:20]:\n",
        "  \n",
        "  x=x.replace(\"['\",\"\")\n",
        "  x=x.replace(\"']\",\"\")\n",
        "  x=x.replace(\"'\",\"\")\n",
        "  for y in x.split(','):\n",
        "        genre_arr.append(y.strip().lower())\n",
        "\n",
        "count=Counter(genre_arr)\n",
        "count=count.most_common()[:20]\n",
        "x,y=map(list,zip(*count))\n",
        "\n",
        "fig,axs=plt.subplots(figsize=(20,5))\n",
        "g=sns.barplot(y,x)\n",
        "g.set_ylabel(\"Genres\", weight = \"bold\")\n",
        "g.set_title(\"Top Genres\", weight = \"bold\")\n",
        "plt.show()"
      ],
      "execution_count": null,
      "outputs": [
        {
          "output_type": "stream",
          "name": "stderr",
          "text": [
            "/usr/local/lib/python3.7/dist-packages/seaborn/_decorators.py:43: FutureWarning: Pass the following variables as keyword args: x, y. From version 0.12, the only valid positional argument will be `data`, and passing other arguments without an explicit keyword will result in an error or misinterpretation.\n",
            "  FutureWarning\n"
          ]
        },
        {
          "output_type": "display_data",
          "data": {
            "image/png": "[encoded data removed]",
            "text/plain": [
              "<Figure size 1440x360 with 1 Axes>"
            ]
          },
          "metadata": {
            "needs_background": "light"
          }
        }
      ]
    },
    {
      "cell_type": "markdown",
      "metadata": {
        "id": "eaXXy9zlhsCW"
      },
      "source": [
        "###As it can be seen above, 'Action' is an evident popular choice, followed by 'Thriller' and 'Adventure'."
      ]
    },
    {
      "cell_type": "markdown",
      "metadata": {
        "id": "htAkzrg7VhcN"
      },
      "source": [
        "## Q2   Which year saw a rise in overall popularity of movies?\n"
      ]
    },
    {
      "cell_type": "code",
      "metadata": {
        "id": "VQfSASa4VgUK",
        "colab": {
          "base_uri": "https://localhost:8080/",
          "height": 738
        },
        "outputId": "64ecfb40-112d-4b54-b887-20e2ab299571"
      },
      "source": [
        "#Using displot to make a histogram to demonstrate the distribution of popularity (Seaborn has been used)\n",
        "sns.color_palette(\"hls\", 8)\n",
        "a=sns.displot(data=data, x=\"year\", y=\"vote_average\",color='m')\n",
        "b= sns.displot(data=data, x=\"year\", y=\"popularity\", color='indigo', alpha=1)\n",
        "plt.show"
      ],
      "execution_count": null,
      "outputs": [
        {
          "output_type": "execute_result",
          "data": {
            "text/plain": [
              "<function matplotlib.pyplot.show>"
            ]
          },
          "metadata": {},
          "execution_count": 105
        },
        {
          "output_type": "display_data",
          "data": {
            "image/png": "[encoded data removed]",
            "text/plain": [
              "<Figure size 360x360 with 1 Axes>"
            ]
          },
          "metadata": {
            "needs_background": "light"
          }
        },
        {
          "output_type": "display_data",
          "data": {
            "image/png": "[encoded data removed]",
            "text/plain": [
              "<Figure size 360x360 with 1 Axes>"
            ]
          },
          "metadata": {
            "needs_background": "light"
          }
        }
      ]
    },
    {
      "cell_type": "markdown",
      "metadata": {
        "id": "GHqCtFR9Ko_f"
      },
      "source": [
        "###As observed from the graphs, The **2010's** saw an extraordinary rise in overall popularity of movies, with the peak being in **2018-2020**"
      ]
    },
    {
      "cell_type": "markdown",
      "metadata": {
        "id": "lKuK4J1WK-uY"
      },
      "source": [
        "### Q3 How does the length of a movie affect its rating?"
      ]
    },
    {
      "cell_type": "code",
      "metadata": {
        "colab": {
          "base_uri": "https://localhost:8080/",
          "height": 738
        },
        "id": "N5zrek-wK86w",
        "outputId": "bbcbaeaf-6c96-4c7a-8483-aa2b6a543841"
      },
      "source": [
        "#Displot has been used to make the Kernel Density Estimation (to estimate the probability density of average votes)\n",
        "data_ref= data[data['runtime'] != 0]\n",
        "a=sns.displot(data=data_ref, x=\"runtime\", y=\"vote_average\", kind=\"kde\", color=\"orangered\")\n",
        "a=sns.displot(data=data_ref, x=\"runtime\", y=\"popularity\", kind=\"hist\", color=\"springgreen\")\n",
        "plt.show"
      ],
      "execution_count": null,
      "outputs": [
        {
          "output_type": "execute_result",
          "data": {
            "text/plain": [
              "<function matplotlib.pyplot.show>"
            ]
          },
          "metadata": {},
          "execution_count": 106
        },
        {
          "output_type": "display_data",
          "data": {
            "image/png": "[encoded data removed]",
            "text/plain": [
              "<Figure size 360x360 with 1 Axes>"
            ]
          },
          "metadata": {
            "needs_background": "light"
          }
        },
        {
          "output_type": "display_data",
          "data": {
            "image/png": "[encoded data removed]",
            "text/plain": [
              "<Figure size 360x360 with 1 Axes>"
            ]
          },
          "metadata": {
            "needs_background": "light"
          }
        }
      ]
    },
    {
      "cell_type": "markdown",
      "metadata": {
        "id": "LNTwwYxaSdwR"
      },
      "source": [
        "### We can infer from the graph that movies that are around the **length of 80-100 minutes** are preferred by people. Thus, a movie around 90 minutes is more likely to do well at the box office."
      ]
    },
    {
      "cell_type": "markdown",
      "metadata": {
        "id": "HHy8HKtcTYj4"
      },
      "source": [
        "## Q4 Depending on the genre of a movie, which month is the best to release it?"
      ]
    },
    {
      "cell_type": "markdown",
      "metadata": {
        "id": "kECmK1t4Nau7"
      },
      "source": [
        "Formatting the genre column to remove brackets and apostrophes so only comma separated string remains"
      ]
    },
    {
      "cell_type": "code",
      "metadata": {
        "id": "Qn5wkDBusCFv"
      },
      "source": [
        "relevant_data=data[['genre','month','popularity']]\n",
        "relevant_data= relevant_data[data['genre'] != '[]']\n",
        "relevant_data = relevant_data[relevant_data['genre'].notna()]\n",
        "# print(relevant_data.shape[0], relevant_data.shape[1])\n",
        "# #for i in range(len(relevant_data)):\n",
        "#   #x=x.lstrip(\"[\")\n",
        "# for index, row in relevant_data.iterrows():\n",
        "#   x=row['genre']\n",
        "#   x=x.replace(\"[\",\"\")\n",
        "#   x=x.replace(\"]\",\"\")\n",
        "#   x=x.replace(\"'\",\"\")\n",
        "#   x=x.lower()\n",
        "#   row['genre']=x\n",
        "#   #relevant_data.loc[i, 'genre']=x\n",
        "relevant_data['genre']=relevant_data['genre'].replace(to_replace=[\"\\[\",\"'\",\"\\]\",\" \"],value=\"\", regex=True)"
      ],
      "execution_count": null,
      "outputs": []
    },
    {
      "cell_type": "markdown",
      "metadata": {
        "id": "plOaZwSeNpBe"
      },
      "source": [
        "Separating comma separated values in genre column to different rows such that popularity and month remains same but genre separates"
      ]
    },
    {
      "cell_type": "code",
      "metadata": {
        "id": "pCdkvm9zsCI5"
      },
      "source": [
        "relevant_data=relevant_data.drop('genre', axis=1).join(relevant_data['genre'].str.split(',', expand=True).stack().reset_index(level=1, drop=True).rename('genre'))"
      ],
      "execution_count": null,
      "outputs": []
    },
    {
      "cell_type": "code",
      "metadata": {
        "colab": {
          "base_uri": "https://localhost:8080/",
          "height": 357
        },
        "id": "Eu9H_IowmSRz",
        "outputId": "a2f90fb8-e3e9-47ac-d1a7-226da8aab9a0"
      },
      "source": [
        "relevant_data.head(10)"
      ],
      "execution_count": null,
      "outputs": [
        {
          "output_type": "execute_result",
          "data": {
            "text/html": [
              "<div>\n",
              "<style scoped>\n",
              "    .dataframe tbody tr th:only-of-type {\n",
              "        vertical-align: middle;\n",
              "    }\n",
              "\n",
              "    .dataframe tbody tr th {\n",
              "        vertical-align: top;\n",
              "    }\n",
              "\n",
              "    .dataframe thead th {\n",
              "        text-align: right;\n",
              "    }\n",
              "</style>\n",
              "<table border=\"1\" class=\"dataframe\">\n",
              "  <thead>\n",
              "    <tr style=\"text-align: right;\">\n",
              "      <th></th>\n",
              "      <th>month</th>\n",
              "      <th>popularity</th>\n",
              "      <th>genre</th>\n",
              "    </tr>\n",
              "  </thead>\n",
              "  <tbody>\n",
              "    <tr>\n",
              "      <th>0</th>\n",
              "      <td>9.0</td>\n",
              "      <td>5401.308</td>\n",
              "      <td>ScienceFiction</td>\n",
              "    </tr>\n",
              "    <tr>\n",
              "      <th>0</th>\n",
              "      <td>9.0</td>\n",
              "      <td>5401.308</td>\n",
              "      <td>Action</td>\n",
              "    </tr>\n",
              "    <tr>\n",
              "      <th>0</th>\n",
              "      <td>9.0</td>\n",
              "      <td>5401.308</td>\n",
              "      <td>Adventure</td>\n",
              "    </tr>\n",
              "    <tr>\n",
              "      <th>1</th>\n",
              "      <td>3.0</td>\n",
              "      <td>3365.535</td>\n",
              "      <td>Action</td>\n",
              "    </tr>\n",
              "    <tr>\n",
              "      <th>1</th>\n",
              "      <td>3.0</td>\n",
              "      <td>3365.535</td>\n",
              "      <td>Adventure</td>\n",
              "    </tr>\n",
              "    <tr>\n",
              "      <th>1</th>\n",
              "      <td>3.0</td>\n",
              "      <td>3365.535</td>\n",
              "      <td>ScienceFiction</td>\n",
              "    </tr>\n",
              "    <tr>\n",
              "      <th>1</th>\n",
              "      <td>3.0</td>\n",
              "      <td>3365.535</td>\n",
              "      <td>Fantasy</td>\n",
              "    </tr>\n",
              "    <tr>\n",
              "      <th>2</th>\n",
              "      <td>9.0</td>\n",
              "      <td>2911.423</td>\n",
              "      <td>Action</td>\n",
              "    </tr>\n",
              "    <tr>\n",
              "      <th>2</th>\n",
              "      <td>9.0</td>\n",
              "      <td>2911.423</td>\n",
              "      <td>Adventure</td>\n",
              "    </tr>\n",
              "    <tr>\n",
              "      <th>2</th>\n",
              "      <td>9.0</td>\n",
              "      <td>2911.423</td>\n",
              "      <td>ScienceFiction</td>\n",
              "    </tr>\n",
              "  </tbody>\n",
              "</table>\n",
              "</div>"
            ],
            "text/plain": [
              "   month  popularity           genre\n",
              "0    9.0    5401.308  ScienceFiction\n",
              "0    9.0    5401.308          Action\n",
              "0    9.0    5401.308       Adventure\n",
              "1    3.0    3365.535          Action\n",
              "1    3.0    3365.535       Adventure\n",
              "1    3.0    3365.535  ScienceFiction\n",
              "1    3.0    3365.535         Fantasy\n",
              "2    9.0    2911.423          Action\n",
              "2    9.0    2911.423       Adventure\n",
              "2    9.0    2911.423  ScienceFiction"
            ]
          },
          "metadata": {},
          "execution_count": 109
        }
      ]
    },
    {
      "cell_type": "markdown",
      "metadata": {
        "id": "Wfo3pACyM7d3"
      },
      "source": [
        "Sorting relevant_data dataset firstly according to ascending order of genre, followed by popularity from most to least of each genre"
      ]
    },
    {
      "cell_type": "code",
      "metadata": {
        "id": "_BGvmafNsBzJ"
      },
      "source": [
        "relevant_data=relevant_data.sort_values(['genre','popularity'], ascending=(True, False))"
      ],
      "execution_count": null,
      "outputs": []
    },
    {
      "cell_type": "markdown",
      "metadata": {
        "id": "BUfILxCqMwDu"
      },
      "source": [
        "to_csv(): to convert pandas dataset to a .csv (comma separated file) format"
      ]
    },
    {
      "cell_type": "code",
      "metadata": {
        "id": "uNFLqXDisCC5"
      },
      "source": [
        "# relevant_data.to_csv(\"mod.csv\")\n",
        "# from google.colab import files\n",
        "# files.download('mod.csv')"
      ],
      "execution_count": null,
      "outputs": []
    },
    {
      "cell_type": "code",
      "metadata": {
        "colab": {
          "base_uri": "https://localhost:8080/"
        },
        "id": "k9b8pBd60h96",
        "outputId": "5a71d466-8e01-4c8b-d857-dc095784db21"
      },
      "source": [
        "relevant_data['genre'].value_counts()"
      ],
      "execution_count": null,
      "outputs": [
        {
          "output_type": "execute_result",
          "data": {
            "text/plain": [
              "Drama             3823\n",
              "Comedy            3010\n",
              "Action            2576\n",
              "Thriller          2551\n",
              "Adventure         1761\n",
              "Horror            1542\n",
              "Romance           1412\n",
              "Family            1364\n",
              "Animation         1363\n",
              "ScienceFiction    1270\n",
              "Fantasy           1264\n",
              "Crime             1240\n",
              "Mystery            808\n",
              "History            405\n",
              "Documentary        306\n",
              "Music              301\n",
              "War                272\n",
              "TVMovie            242\n",
              "Western            126\n",
              "Name: genre, dtype: int64"
            ]
          },
          "metadata": {},
          "execution_count": 112
        }
      ]
    },
    {
      "cell_type": "code",
      "metadata": {
        "id": "fWKnMVQ52qT9"
      },
      "source": [
        "ans=[]"
      ],
      "execution_count": null,
      "outputs": []
    },
    {
      "cell_type": "markdown",
      "metadata": {
        "id": "NXewh2rryBuz"
      },
      "source": [
        "Applying custom function to the dataset after grouping according to the different genre in order to save the month where genre was most popular in 'ans' list"
      ]
    },
    {
      "cell_type": "code",
      "metadata": {
        "id": "Z982xIah1Qex"
      },
      "source": [
        "from collections import Counter\n",
        "def fun(df):\n",
        "  count=dict(Counter(df['month'][:30]))\n",
        "  m=max(count, key=count.get)\n",
        "  print(df['genre'])\n",
        "  print(\"Month: \",m)\n",
        "  ans.append(m)"
      ],
      "execution_count": null,
      "outputs": []
    },
    {
      "cell_type": "code",
      "metadata": {
        "id": "XrKtlKt20h61",
        "colab": {
          "base_uri": "https://localhost:8080/",
          "height": 1000
        },
        "outputId": "ec3fa61f-94d4-4b24-a341-f6d89a4ce6b4"
      },
      "source": [
        "relevant_data.groupby(['genre']).apply(fun)"
      ],
      "execution_count": null,
      "outputs": [
        {
          "output_type": "stream",
          "name": "stdout",
          "text": [
            "0       Action\n",
            "1       Action\n",
            "2       Action\n",
            "3       Action\n",
            "4       Action\n",
            "         ...  \n",
            "9486    Action\n",
            "9783    Action\n",
            "8915    Action\n",
            "9534    Action\n",
            "9472    Action\n",
            "Name: genre, Length: 2576, dtype: object\n",
            "Month:  7.0\n",
            "0       Adventure\n",
            "1       Adventure\n",
            "2       Adventure\n",
            "4       Adventure\n",
            "12      Adventure\n",
            "          ...    \n",
            "9889    Adventure\n",
            "8624    Adventure\n",
            "8646    Adventure\n",
            "9659    Adventure\n",
            "8579    Adventure\n",
            "Name: genre, Length: 1761, dtype: object\n",
            "Month:  9.0\n",
            "11      Animation\n",
            "10      Animation\n",
            "18      Animation\n",
            "24      Animation\n",
            "25      Animation\n",
            "          ...    \n",
            "9659    Animation\n",
            "9443    Animation\n",
            "9581    Animation\n",
            "8768    Animation\n",
            "9666    Animation\n",
            "Name: genre, Length: 1363, dtype: object\n",
            "Month:  9.0\n",
            "4       Comedy\n",
            "10      Comedy\n",
            "22      Comedy\n",
            "20      Comedy\n",
            "16      Comedy\n",
            "         ...  \n",
            "9287    Comedy\n",
            "9371    Comedy\n",
            "9534    Comedy\n",
            "9472    Comedy\n",
            "9527    Comedy\n",
            "Name: genre, Length: 3010, dtype: object\n",
            "Month:  1.0\n",
            "3       Crime\n",
            "5       Crime\n",
            "14      Crime\n",
            "22      Crime\n",
            "20      Crime\n",
            "        ...  \n",
            "9939    Crime\n",
            "9528    Crime\n",
            "9240    Crime\n",
            "9486    Crime\n",
            "9783    Crime\n",
            "Name: genre, Length: 1240, dtype: object\n",
            "Month:  5.0\n",
            "336      Documentary\n",
            "369      Documentary\n",
            "400      Documentary\n",
            "299      Documentary\n",
            "423      Documentary\n",
            "            ...     \n",
            "8812     Documentary\n",
            "9795     Documentary\n",
            "10000    Documentary\n",
            "8970     Documentary\n",
            "9809     Documentary\n",
            "Name: genre, Length: 306, dtype: object\n",
            "Month:  3.0\n",
            "22      Drama\n",
            "35      Drama\n",
            "43      Drama\n",
            "37      Drama\n",
            "74      Drama\n",
            "        ...  \n",
            "9120    Drama\n",
            "9081    Drama\n",
            "9746    Drama\n",
            "9371    Drama\n",
            "9472    Drama\n",
            "Name: genre, Length: 3823, dtype: object\n",
            "Month:  11.0\n",
            "10      Family\n",
            "25      Family\n",
            "30      Family\n",
            "40      Family\n",
            "34      Family\n",
            "         ...  \n",
            "9995    Family\n",
            "8624    Family\n",
            "8704    Family\n",
            "9581    Family\n",
            "9472    Family\n",
            "Name: genre, Length: 1364, dtype: object\n",
            "Month:  1.0\n",
            "1       Fantasy\n",
            "12      Fantasy\n",
            "18      Fantasy\n",
            "21      Fantasy\n",
            "23      Fantasy\n",
            "         ...   \n",
            "7675    Fantasy\n",
            "9617    Fantasy\n",
            "9659    Fantasy\n",
            "9443    Fantasy\n",
            "9893    Fantasy\n",
            "Name: genre, Length: 1264, dtype: object\n",
            "Month:  3.0\n",
            "115     History\n",
            "147     History\n",
            "325     History\n",
            "214     History\n",
            "180     History\n",
            "         ...   \n",
            "8506    History\n",
            "9844    History\n",
            "8652    History\n",
            "9963    History\n",
            "9395    History\n",
            "Name: genre, Length: 405, dtype: object\n",
            "Month:  1.0\n",
            "8       Horror\n",
            "7       Horror\n",
            "16      Horror\n",
            "15      Horror\n",
            "26      Horror\n",
            "         ...  \n",
            "8768    Horror\n",
            "8915    Horror\n",
            "9081    Horror\n",
            "9167    Horror\n",
            "9534    Horror\n",
            "Name: genre, Length: 1542, dtype: object\n",
            "Month:  10.0\n",
            "40      Music\n",
            "39      Music\n",
            "100     Music\n",
            "114     Music\n",
            "149     Music\n",
            "        ...  \n",
            "8858    Music\n",
            "8870    Music\n",
            "7869    Music\n",
            "8704    Music\n",
            "9853    Music\n",
            "Name: genre, Length: 301, dtype: object\n",
            "Month:  8.0\n",
            "22      Mystery\n",
            "17      Mystery\n",
            "36      Mystery\n",
            "55      Mystery\n",
            "105     Mystery\n",
            "         ...   \n",
            "8646    Mystery\n",
            "7983    Mystery\n",
            "9873    Mystery\n",
            "9167    Mystery\n",
            "9666    Mystery\n",
            "Name: genre, Length: 808, dtype: object\n",
            "Month:  6.0\n",
            "35      Romance\n",
            "98      Romance\n",
            "113     Romance\n",
            "201     Romance\n",
            "143     Romance\n",
            "         ...   \n",
            "8520    Romance\n",
            "9074    Romance\n",
            "9746    Romance\n",
            "9371    Romance\n",
            "9472    Romance\n",
            "Name: genre, Length: 1412, dtype: object\n",
            "Month:  11.0\n",
            "0       ScienceFiction\n",
            "1       ScienceFiction\n",
            "2       ScienceFiction\n",
            "4       ScienceFiction\n",
            "6       ScienceFiction\n",
            "             ...      \n",
            "9637    ScienceFiction\n",
            "8566    ScienceFiction\n",
            "8453    ScienceFiction\n",
            "9146    ScienceFiction\n",
            "8915    ScienceFiction\n",
            "Name: genre, Length: 1270, dtype: object\n",
            "Month:  9.0\n",
            "80       TVMovie\n",
            "133      TVMovie\n",
            "174      TVMovie\n",
            "308      TVMovie\n",
            "439      TVMovie\n",
            "          ...   \n",
            "9178     TVMovie\n",
            "8976     TVMovie\n",
            "8527     TVMovie\n",
            "7634     TVMovie\n",
            "10005    TVMovie\n",
            "Name: genre, Length: 242, dtype: object\n",
            "Month:  11.0\n",
            "3       Thriller\n",
            "5       Thriller\n",
            "9       Thriller\n",
            "8       Thriller\n",
            "14      Thriller\n",
            "          ...   \n",
            "9146    Thriller\n",
            "9240    Thriller\n",
            "9486    Thriller\n",
            "9081    Thriller\n",
            "9167    Thriller\n",
            "Name: genre, Length: 2551, dtype: object\n",
            "Month:  10.0\n",
            "115     War\n",
            "325     War\n",
            "214     War\n",
            "289     War\n",
            "526     War\n",
            "       ... \n",
            "8222    War\n",
            "8652    War\n",
            "9715    War\n",
            "9978    War\n",
            "8579    War\n",
            "Name: genre, Length: 272, dtype: object\n",
            "Month:  1.0\n",
            "78      Western\n",
            "208     Western\n",
            "148     Western\n",
            "450     Western\n",
            "469     Western\n",
            "         ...   \n",
            "9940    Western\n",
            "9977    Western\n",
            "8371    Western\n",
            "9389    Western\n",
            "8918    Western\n",
            "Name: genre, Length: 126, dtype: object\n",
            "Month:  12.0\n"
          ]
        },
        {
          "output_type": "execute_result",
          "data": {
            "text/html": [
              "<div>\n",
              "<style scoped>\n",
              "    .dataframe tbody tr th:only-of-type {\n",
              "        vertical-align: middle;\n",
              "    }\n",
              "\n",
              "    .dataframe tbody tr th {\n",
              "        vertical-align: top;\n",
              "    }\n",
              "\n",
              "    .dataframe thead th {\n",
              "        text-align: right;\n",
              "    }\n",
              "</style>\n",
              "<table border=\"1\" class=\"dataframe\">\n",
              "  <thead>\n",
              "    <tr style=\"text-align: right;\">\n",
              "      <th></th>\n",
              "    </tr>\n",
              "  </thead>\n",
              "  <tbody>\n",
              "  </tbody>\n",
              "</table>\n",
              "</div>"
            ],
            "text/plain": [
              "Empty DataFrame\n",
              "Columns: []\n",
              "Index: []"
            ]
          },
          "metadata": {},
          "execution_count": 115
        }
      ]
    },
    {
      "cell_type": "code",
      "metadata": {
        "id": "1eaMCf5M0h4H",
        "colab": {
          "base_uri": "https://localhost:8080/"
        },
        "outputId": "36def976-e514-4293-921a-f8b334f8d54e"
      },
      "source": [
        "arr=relevant_data.genre.unique()\n",
        "print(\"Choose your genre: \")\n",
        "i = 0\n",
        "while i < 19:\n",
        "  print(i+1,\")\",arr[i])\n",
        "  i+=1\n",
        "gen= int(input(\"Enter choice (1-19): \"))\n",
        "print(\"Best month to release the movie is:\", end=\" \")\n",
        "m=ans[gen-1]\n",
        "if m==1:\n",
        "  print(\"January\")\n",
        "elif m==2:\n",
        "  print(\"Feburary\") \n",
        "elif m==3:\n",
        "  print(\"March\") \n",
        "elif m==4:\n",
        "  print(\"April\") \n",
        "elif m==5:\n",
        "  print(\"May\") \n",
        "elif m==6:\n",
        "  print(\"June\") \n",
        "elif m==7:\n",
        "  print(\"July\") \n",
        "elif m==8:\n",
        "  print(\"August\") \n",
        "elif m==9:\n",
        "  print(\"September\") \n",
        "elif m==10:\n",
        "  print(\"october\") \n",
        "elif m==11:\n",
        "  print(\"November\")\n",
        "elif m==12:\n",
        "  print(\"December\")    \n"
      ],
      "execution_count": null,
      "outputs": [
        {
          "output_type": "stream",
          "name": "stdout",
          "text": [
            "Choose your genre: \n",
            "1 ) Action\n",
            "2 ) Adventure\n",
            "3 ) Animation\n",
            "4 ) Comedy\n",
            "5 ) Crime\n",
            "6 ) Documentary\n",
            "7 ) Drama\n",
            "8 ) Family\n",
            "9 ) Fantasy\n",
            "10 ) History\n",
            "11 ) Horror\n",
            "12 ) Music\n",
            "13 ) Mystery\n",
            "14 ) Romance\n",
            "15 ) ScienceFiction\n",
            "16 ) TVMovie\n",
            "17 ) Thriller\n",
            "18 ) War\n",
            "19 ) Western\n",
            "Enter choice (1-19): 1\n",
            "Best month to release the movie is: July\n"
          ]
        }
      ]
    },
    {
      "cell_type": "markdown",
      "metadata": {
        "id": "SfFBe_5-f_ZY"
      },
      "source": [
        "## Q5 After English, what is the most popular language?\n"
      ]
    },
    {
      "cell_type": "code",
      "metadata": {
        "id": "riWFV1ct0h1W",
        "colab": {
          "base_uri": "https://localhost:8080/",
          "height": 390
        },
        "outputId": "b390211b-83de-486b-faf3-48e6c6b8be8d"
      },
      "source": [
        "##Python Counter is a container that will hold the count of each of the elements present in the container. It will return a dictionary. \n",
        "\n",
        "from collections import Counter\n",
        "genre_arr=[]\n",
        "datalanguage= data[data['original_language'] != '[]']\n",
        "\n",
        "for x in datalanguage['original_language'][:20]:\n",
        "  \n",
        "  x=x.replace(\"['\",\"\")\n",
        "  x=x.replace(\"']\",\"\")\n",
        "  x=x.replace(\"'\",\"\")\n",
        "  for y in x.split(','):\n",
        "        genre_arr.append(y.strip().lower())\n",
        "\n",
        "count=Counter(genre_arr)\n",
        "count=count.most_common()[:20]\n",
        "x,y=map(list,zip(*count))\n",
        "\n",
        "fig,axs=plt.subplots(figsize=(20,5))\n",
        "g=sns.barplot(y,x)\n",
        "g.set_ylabel(\"Language\", weight = \"bold\")\n",
        "g.set_title(\"Top Languages\", weight = \"bold\")\n",
        "plt.show()"
      ],
      "execution_count": null,
      "outputs": [
        {
          "output_type": "stream",
          "name": "stderr",
          "text": [
            "/usr/local/lib/python3.7/dist-packages/seaborn/_decorators.py:43: FutureWarning: Pass the following variables as keyword args: x, y. From version 0.12, the only valid positional argument will be `data`, and passing other arguments without an explicit keyword will result in an error or misinterpretation.\n",
            "  FutureWarning\n"
          ]
        },
        {
          "output_type": "display_data",
          "data": {
            "image/png": "[encoded data removed]",
            "text/plain": [
              "<Figure size 1440x360 with 1 Axes>"
            ]
          },
          "metadata": {
            "needs_background": "light"
          }
        }
      ]
    },
    {
      "cell_type": "markdown",
      "metadata": {
        "id": "SIXjLgCXupMM"
      },
      "source": [
        " The most preferred language after English is **Japanese**, followed closely by **Polish**. "
      ]
    },
    {
      "cell_type": "markdown",
      "metadata": {
        "id": "htaw7m1BfUnW"
      },
      "source": [
        "## Summary of learnings from the analysis\n",
        "\n",
        "We've run an analysis on a dataset of the top 10000 movies according to TMDB, and drawn a number of valuable inferences vital to understanding the nature of cinema and what affects a movie's ratings and popularity.\n",
        "\n",
        "-To begin with, the most popular genre out of 19 genres, turned out to be Action, standing at 14, followed by Thriller and Adventure at 7.3. \n",
        "\n",
        "-The year that saw a rise in overall popularity of movies came out to be the 2010s where there was an 'extraordinary rise in overall popularity of movies' with a peak in the years 2018-2020.\n",
        "\n",
        "-In terms of the length of movies, those around the time span of 80-100 minutes are more likely to do well at the box office.\n",
        "\n",
        "-Lastly, the more preferred language after English was Japanese, with Polish coing very close. The reason why we chose to compare all languages apart from English was due to it evidently having a recurring occurence in the dataset. \n"
      ]
    },
    {
      "cell_type": "markdown",
      "metadata": {
        "id": "ez5FYDqlmjw6"
      },
      "source": [
        "## Future Scope of Analysis\n",
        "\n",
        "In the future, for further analysis, a Machine Learning model can be made that can predict the revenue of a movie that will be released and the best time to release it. "
      ]
    },
    {
      "cell_type": "markdown",
      "metadata": {
        "id": "tHFT07gIfjnV"
      },
      "source": [
        "##Reference links:\n",
        "\n",
        "Data visualization with python Matplotlib https://medium.com/swlh/data-visualization-with-python-matplotlib-16880d0d3a44\n",
        "\n",
        "Datatypes in pandas https://towardsdatascience.com/change-column-data-type-in-pandas-954d7acdef1d\n",
        "\n",
        "Edtiting data in pandas dataframe\n",
        "https://towardsdatascience.com/a-really-simple-way-to-edit-row-by-row-in-a-pandas-dataframe-75d339cbd313\n",
        "\n",
        "Applying cutom functions to groups of data in Pandas https://towardsdatascience.com/applying-custom-functions-to-groups-of-data-in-pandas-928d7eece0aa#:~:text=You%20can%20also%20create%20custom,ll%20see%20in%20a%20moment\n",
        "\n",
        "Learning Python seaborn https://www.w3schools.com/python/numpy/numpy_random_seaborn.asp\n"
      ]
    }
  ]
}